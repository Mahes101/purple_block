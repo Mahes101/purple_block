{
 "cells": [
  {
   "cell_type": "code",
   "execution_count": null,
   "metadata": {},
   "outputs": [],
   "source": [
    "def find_best_prices(prices):\n",
    "    if len(prices) < 2:\n",
    "        return None, None  # Not enough prices to trade\n",
    "    \n",
    "    min_price = prices[0] # Initialize the minimum price as the first price in the list\n",
    "    max_profit = 0         # Initialize the maximum profit\n",
    "    buy_price = sell_price = prices[0] # Initialize the buy and sell prices as the first price in the list\n",
    "    \n",
    "    for price in prices[1:]:    # Iterating over the price list and ignore the first element\n",
    "        if price - min_price > max_profit:  # If the current price is greater than the minimum price\n",
    "            max_profit = price - min_price # Update the maximum profit\n",
    "            buy_price = min_price # Update the buy price\n",
    "            sell_price = price # Update the sell price\n",
    "        \n",
    "        if price < min_price:\n",
    "            min_price = price\n",
    "    \n",
    "    return buy_price, sell_price"
   ]
  },
  {
   "cell_type": "code",
   "execution_count": 2,
   "metadata": {},
   "outputs": [
    {
     "name": "stdout",
     "output_type": "stream",
     "text": [
      "Best Buy Price: 1, Best Sell Price: 9\n"
     ]
    }
   ],
   "source": [
    "# Example usage\n",
    "prices = [5, 2, 1, 6, 9, 7]\n",
    "buy, sell = find_best_prices(prices)\n",
    "print(f\"Best Buy Price: {buy}, Best Sell Price: {sell}\")"
   ]
  }
 ],
 "metadata": {
  "kernelspec": {
   "display_name": "Python 3",
   "language": "python",
   "name": "python3"
  },
  "language_info": {
   "codemirror_mode": {
    "name": "ipython",
    "version": 3
   },
   "file_extension": ".py",
   "mimetype": "text/x-python",
   "name": "python",
   "nbconvert_exporter": "python",
   "pygments_lexer": "ipython3",
   "version": "3.12.0"
  }
 },
 "nbformat": 4,
 "nbformat_minor": 2
}
